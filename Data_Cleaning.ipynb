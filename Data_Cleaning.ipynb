{
  "cells": [
    {
      "cell_type": "code",
      "execution_count": null,
      "metadata": {
        "colab": {
          "base_uri": "https://localhost:8080/"
        },
        "id": "1oDmQuJ54wFx",
        "outputId": "cff4b20b-01e5-4ae9-d7b5-5955d40ef083"
      },
      "outputs": [
        {
          "output_type": "stream",
          "name": "stdout",
          "text": [
            "Mounted at /content/gdrive\n"
          ]
        }
      ],
      "source": [
        "from google.colab import drive\n",
        "drive.mount(\"/content/gdrive\")"
      ]
    },
    {
      "cell_type": "code",
      "execution_count": null,
      "metadata": {
        "id": "ZEMkuHsmLoax"
      },
      "outputs": [],
      "source": [
        "import os\n",
        "import zipfile\n",
        "\n",
        "local_zip = '/content/gdrive/MyDrive/Datasets/Images.zip'\n",
        "zip_ref = zipfile.ZipFile(local_zip, 'r')\n",
        "zip_ref.extractall('/content/Images')\n",
        "zip_ref.close()"
      ]
    },
    {
      "cell_type": "code",
      "execution_count": null,
      "metadata": {
        "id": "SSKm9dcd5Bux"
      },
      "outputs": [],
      "source": [
        "import pandas as pd\n",
        "\n",
        "train=pd.read_csv('/content/Train.csv')\n",
        "test=pd.read_csv('/content/Test (1).csv')"
      ]
    },
    {
      "cell_type": "code",
      "execution_count": null,
      "metadata": {
        "id": "u-yZ1UQM-f4H"
      },
      "outputs": [],
      "source": [
        "!mkdir /content/test"
      ]
    },
    {
      "cell_type": "code",
      "execution_count": null,
      "metadata": {
        "id": "9iiD9FxU5RMk"
      },
      "outputs": [],
      "source": [
        "for i in range(len(test)):\n",
        "  link='/content/Images/Images/'+test['img_IDS'][i]+'.jpg'\n",
        "  !cp $link /content/test"
      ]
    },
    {
      "cell_type": "code",
      "execution_count": null,
      "metadata": {
        "colab": {
          "base_uri": "https://localhost:8080/"
        },
        "id": "MQhZFGUqRQgp",
        "outputId": "619a4c07-aa99-4c8a-f23b-184fd742fcd0"
      },
      "outputs": [
        {
          "name": "stdout",
          "output_type": "stream",
          "text": [
            "<class 'pandas.core.frame.DataFrame'>\n",
            "RangeIndex: 6249 entries, 0 to 6248\n",
            "Data columns (total 2 columns):\n",
            " #   Column   Non-Null Count  Dtype \n",
            "---  ------   --------------  ----- \n",
            " 0   img_IDS  6249 non-null   object\n",
            " 1   Label    6249 non-null   int64 \n",
            "dtypes: int64(1), object(1)\n",
            "memory usage: 97.8+ KB\n"
          ]
        }
      ],
      "source": [
        "train.info()"
      ]
    },
    {
      "cell_type": "code",
      "execution_count": null,
      "metadata": {
        "id": "Tb9HErl2U4MK"
      },
      "outputs": [],
      "source": [
        "for i in range(len(train)):\n",
        "  train['img_IDS'][i]='/content/Images/Images/' + train['img_IDS'][i] + '.jpg'"
      ]
    },
    {
      "cell_type": "code",
      "execution_count": null,
      "metadata": {
        "id": "gvwdAGd08_HV"
      },
      "outputs": [],
      "source": [
        "!mkdir /content/Images/Temple\n",
        "!mkdir /content/Images/Church\n",
        "!mkdir /content/Images/Enough\n",
        "!mkdir /content/Images/Me\n",
        "!mkdir /content/Images/Love\n",
        "!mkdir /content/Images/Mosque\n",
        "!mkdir /content/Images/You\n",
        "!mkdir /content/Images/Friend\n",
        "!mkdir /content/Images/Seat"
      ]
    },
    {
      "cell_type": "code",
      "execution_count": null,
      "metadata": {
        "id": "I5VBkjM8RYmk"
      },
      "outputs": [],
      "source": [
        "for i in range(len(train)):\n",
        "  if train['Label'][i]=='Temple':\n",
        "    train['Label'][i]=1\n",
        "  elif train['Label'][i]=='Church':\n",
        "    train['Label'][i]=2\n",
        "  elif train['Label'][i]=='Enough/Satisfied':\n",
        "    train['Label'][i]=3\n",
        "  elif train['Label'][i]=='Me':\n",
        "    train['Label'][i]=4\n",
        "  elif train['Label'][i]=='Love':\n",
        "    train['Label'][i]=5\n",
        "  elif train['Label'][i]=='Mosque':\n",
        "    train['Label'][i]=6\n",
        "  elif train['Label'][i]=='You':\n",
        "    train['Label'][i]=7\n",
        "  elif train['Label'][i]=='Friend':\n",
        "    train['Label'][i]=8\n",
        "  elif train['Label'][i]=='Seat':\n",
        "    train['Label'][i]=9"
      ]
    },
    {
      "cell_type": "code",
      "execution_count": null,
      "metadata": {
        "id": "l4QIYQ5JUh1J"
      },
      "outputs": [],
      "source": [
        "train['Label']=train['Label'].astype(int)"
      ]
    },
    {
      "cell_type": "code",
      "execution_count": null,
      "metadata": {
        "id": "jyM5D49hAmw5"
      },
      "outputs": [],
      "source": [
        "for i in range(len(train)):\n",
        "  if train['Label'][i]==1:\n",
        "    link=train['img_IDS'][i]\n",
        "    !cp $link /content/Images/Temple\n",
        "  elif train['Label'][i]==2:\n",
        "    link=train['img_IDS'][i]\n",
        "    !cp $link /content/Images/Church\n",
        "  elif train['Label'][i]==3:\n",
        "    link=train['img_IDS'][i]\n",
        "    !cp $link /content/Images/Enough\n",
        "  elif train['Label'][i]==4:\n",
        "    link=train['img_IDS'][i]\n",
        "    !cp $link /content/Images/Me\n",
        "  elif train['Label'][i]==5:\n",
        "    link=train['img_IDS'][i]\n",
        "    !cp $link /content/Images/Love\n",
        "  elif train['Label'][i]==6:\n",
        "    link=train['img_IDS'][i]\n",
        "    !cp $link /content/Images/Mosque\n",
        "  elif train['Label'][i]==7:\n",
        "    link=train['img_IDS'][i]\n",
        "    !cp $link /content/Images/You\n",
        "  elif train['Label'][i]==8:\n",
        "    link=train['img_IDS'][i]\n",
        "    !cp $link /content/Images/Friend\n",
        "  elif train['Label'][i]==9:\n",
        "    link=train['img_IDS'][i]\n",
        "    !cp $link /content/Images/Seat"
      ]
    },
    {
      "cell_type": "code",
      "execution_count": null,
      "metadata": {
        "id": "5tG9h8hWGacL"
      },
      "outputs": [],
      "source": [
        "!rm -rf /content/Images/Images"
      ]
    },
    {
      "cell_type": "code",
      "execution_count": null,
      "metadata": {
        "id": "9i7kAvu-oH7H"
      },
      "outputs": [],
      "source": [
        "!rm -rf /content/Images/__MACOSX"
      ]
    },
    {
      "cell_type": "code",
      "execution_count": null,
      "metadata": {
        "id": "ffYkisJubHBO"
      },
      "outputs": [],
      "source": [
        "import numpy as np\n",
        "import tensorflow as tf"
      ]
    },
    {
      "cell_type": "code",
      "execution_count": null,
      "metadata": {
        "id": "yB_yIrklldUj"
      },
      "outputs": [],
      "source": [
        "train=train.sort_values(by=['img_IDS'])"
      ]
    },
    {
      "cell_type": "code",
      "execution_count": null,
      "metadata": {
        "id": "uDgDpMiGmGnV"
      },
      "outputs": [],
      "source": [
        "label=train['Label'].values.tolist()"
      ]
    },
    {
      "cell_type": "code",
      "execution_count": null,
      "metadata": {
        "id": "50hKjlmPmk5z"
      },
      "outputs": [],
      "source": [
        "data_dir='/content/Images'\n",
        "img_height=224\n",
        "batch_size = 32"
      ]
    },
    {
      "cell_type": "code",
      "execution_count": null,
      "metadata": {
        "colab": {
          "base_uri": "https://localhost:8080/"
        },
        "id": "ZjdvA8COmijS",
        "outputId": "e4eadb7d-21fc-4dbf-d7d9-cb31927926e7"
      },
      "outputs": [
        {
          "name": "stdout",
          "output_type": "stream",
          "text": [
            "Found 6249 files belonging to 9 classes.\n",
            "Using 5000 files for training.\n",
            "Found 6249 files belonging to 9 classes.\n",
            "Using 1249 files for validation.\n"
          ]
        }
      ],
      "source": [
        "train_ds = tf.keras.utils.image_dataset_from_directory(\n",
        "  data_dir,\n",
        "  label_mode='categorical',\n",
        "  validation_split=0.2,\n",
        "  subset=\"training\",\n",
        "  seed=123,\n",
        "  image_size=(img_height, img_height),\n",
        "  batch_size=batch_size)\n",
        "val_ds = tf.keras.utils.image_dataset_from_directory(\n",
        "  data_dir,\n",
        "  label_mode='categorical',\n",
        "  validation_split=0.2,\n",
        "  subset=\"validation\",\n",
        "  seed=123,\n",
        "  image_size=(img_height, img_height),\n",
        "  batch_size=batch_size)"
      ]
    },
    {
      "cell_type": "code",
      "execution_count": null,
      "metadata": {
        "colab": {
          "base_uri": "https://localhost:8080/"
        },
        "id": "5X72h0vJt9vj",
        "outputId": "ea5de246-3fdd-45db-f34e-536352ab1397"
      },
      "outputs": [
        {
          "name": "stdout",
          "output_type": "stream",
          "text": [
            "['Church', 'Enough', 'Friend', 'Love', 'Me', 'Mosque', 'Seat', 'Temple', 'You']\n"
          ]
        }
      ],
      "source": [
        "class_names = train_ds.class_names\n",
        "print(class_names)"
      ]
    }
  ],
  "metadata": {
    "colab": {
      "collapsed_sections": [
        "XoY4RsCh_3w6"
      ],
      "name": "Data Cleaning.ipynb",
      "provenance": []
    },
    "kernelspec": {
      "display_name": "Python 3",
      "name": "python3"
    },
    "language_info": {
      "name": "python"
    },
    "accelerator": "GPU"
  },
  "nbformat": 4,
  "nbformat_minor": 0
}